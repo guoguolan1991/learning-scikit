{
 "cells": [
  {
   "cell_type": "code",
   "execution_count": 5,
   "metadata": {
    "collapsed": true
   },
   "outputs": [
    {
     "data": {
      "text/plain": [
       "DictVectorizer(dtype=<type 'numpy.float64'>, separator='=', sort=True,\n        sparse=True)"
      ]
     },
     "execution_count": 5,
     "metadata": {},
     "output_type": "execute_result"
    }
   ],
   "source": [
    "from sklearn.feature_extraction import DictVectorizer\n",
    "measurements = [\n",
    "    {'city': 'Dubai', 'temperature': 33.},\n",
    "    {'city': 'London', 'temperature': 12.},\n",
    "    {'city': 'San Fransisco', 'temperature': 18.},\n",
    "]\n",
    "vec = DictVectorizer()\n",
    "vec.fit_transform(measurements).toarray()\n",
    "vec"
   ]
  },
  {
   "cell_type": "code",
   "execution_count": 2,
   "metadata": {},
   "outputs": [
    {
     "data": {
      "text/plain": [
       "['city=Dubai', 'city=London', 'city=San Fransisco', 'temperature']"
      ]
     },
     "execution_count": 2,
     "metadata": {},
     "output_type": "execute_result"
    }
   ],
   "source": [
    "vec.get_feature_names()"
   ]
  },
  {
   "cell_type": "code",
   "execution_count": 7,
   "metadata": {
    "collapsed": true
   },
   "outputs": [
    {
     "name": "stderr",
     "output_type": "stream",
     "text": [
      "Building prefix dict from the default dictionary ...\n"
     ]
    },
    {
     "name": "stderr",
     "output_type": "stream",
     "text": [
      "Loading model from cache c:\\users\\admini~1\\appdata\\local\\temp\\jieba.cache\n"
     ]
    },
    {
     "name": "stderr",
     "output_type": "stream",
     "text": [
      "Loading model cost 0.352 seconds.\n"
     ]
    },
    {
     "name": "stderr",
     "output_type": "stream",
     "text": [
      "Prefix dict has been built succesfully.\n"
     ]
    },
    {
     "name": "stdout",
     "output_type": "stream",
     "text": [
      "对 p\n这 r\n句 q\n话 n\n进行 v\n分词 n\n"
     ]
    }
   ],
   "source": [
    "import jieba.posseg as pseg\n",
    "word = pseg.cut(\"对这句话进行分词\")\n",
    "for key in word:\n",
    "    print key.word, key.flag"
   ]
  },
  {
   "cell_type": "code",
   "execution_count": 13,
   "metadata": {
    "collapsed": false
   },
   "outputs": [],
   "source": [
    "from sklearn.feature_extraction.text import CountVectorizer\n",
    "from sklearn.feature_extraction.text import TfidfTransformer\n",
    "corpus = [\"我 来到 北京 清华大学\",  \n",
    "          \"他 来到 了 网易 杭研 大厦\",\n",
    "          \"小明 硕士 毕业 与 中国 科学院\",\n",
    "          \"我 爱 北京 天安门\"]\n",
    "vectorizer = CountVectorizer()\n",
    "transform = TfidfTransformer()\n",
    "tfidf = transform.fit_transform(vectorizer.fit_transform(corpus))\n",
    "word = vectorizer.get_feature_names()"
   ]
  },
  {
   "cell_type": "code",
   "execution_count": 14,
   "metadata": {
    "collapsed": true
   },
   "outputs": [
    {
     "name": "stdout",
     "output_type": "stream",
     "text": [
      "-------这里输出第 0 类文本的词语tf-idf权重------\n中国 0.0\n北京 0.52640543361\n大厦 0.0\n天安门 0.0\n小明 0.0\n来到 0.52640543361\n杭研 0.0\n毕业 0.0\n清华大学 0.66767854461\n硕士 0.0\n科学院 0.0\n网易 0.0\n-------这里输出第 1 类文本的词语tf-idf权重------\n中国 0.0\n北京 0.0\n大厦 0.525472749264\n天安门 0.0\n小明 0.0\n来到 0.414288751166\n杭研 0.525472749264\n毕业 0.0\n清华大学 0.0\n硕士 0.0\n科学院 0.0\n网易 0.525472749264\n-------这里输出第 2 类文本的词语tf-idf权重------\n中国 0.4472135955\n北京 0.0\n大厦 0.0\n天安门 0.0\n小明 0.4472135955\n来到 0.0\n杭研 0.0\n毕业 0.4472135955\n清华大学 0.0\n硕士 0.4472135955\n科学院 0.4472135955\n网易 0.0\n-------这里输出第 3 类文本的词语tf-idf权重------\n中国 0.0\n北京 0.61913029649\n大厦 0.0\n天安门 0.78528827571\n小明 0.0\n来到 0.0\n杭研 0.0\n毕业 0.0\n清华大学 0.0\n硕士 0.0\n科学院 0.0\n网易 0.0\n"
     ]
    }
   ],
   "source": [
    "weight = tfidf.toarray()\n",
    "for i in range(len(weight)):\n",
    "    print u\"-------这里输出第\",i,u\"类文本的词语tf-idf权重------\"  \n",
    "    for j in range(len(word)):  \n",
    "        print word[j], weight[i][j]"
   ]
  },
  {
   "cell_type": "code",
   "execution_count": 19,
   "metadata": {
    "collapsed": false
   },
   "outputs": [
    {
     "data": {
      "text/html": [
       "<div>\n",
       "<style>\n",
       "    .dataframe thead tr:only-child th {\n",
       "        text-align: right;\n",
       "    }\n",
       "\n",
       "    .dataframe thead th {\n",
       "        text-align: left;\n",
       "    }\n",
       "\n",
       "    .dataframe tbody tr th {\n",
       "        vertical-align: top;\n",
       "    }\n",
       "</style>\n",
       "<table border=\"1\" class=\"dataframe\">\n",
       "  <thead>\n",
       "    <tr>\n",
       "      <th></th>\n",
       "      <th colspan=\"5\" halign=\"left\">id</th>\n",
       "    </tr>\n",
       "    <tr>\n",
       "      <th>productColor</th>\n",
       "      <th>亮白色</th>\n",
       "      <th>亮蓝色</th>\n",
       "      <th>亮黑色</th>\n",
       "      <th>陶瓷黑</th>\n",
       "      <th>All</th>\n",
       "    </tr>\n",
       "    <tr>\n",
       "      <th>productSize</th>\n",
       "      <th></th>\n",
       "      <th></th>\n",
       "      <th></th>\n",
       "      <th></th>\n",
       "      <th></th>\n",
       "    </tr>\n",
       "  </thead>\n",
       "  <tbody>\n",
       "    <tr>\n",
       "      <th>6GB 128GB</th>\n",
       "      <td>0.0</td>\n",
       "      <td>335.0</td>\n",
       "      <td>255.0</td>\n",
       "      <td>325.0</td>\n",
       "      <td>915.0</td>\n",
       "    </tr>\n",
       "    <tr>\n",
       "      <th>6GB 128GB（移动定制全网通）</th>\n",
       "      <td>0.0</td>\n",
       "      <td>0.0</td>\n",
       "      <td>5.0</td>\n",
       "      <td>0.0</td>\n",
       "      <td>5.0</td>\n",
       "    </tr>\n",
       "    <tr>\n",
       "      <th>6GB 64GB</th>\n",
       "      <td>40.0</td>\n",
       "      <td>0.0</td>\n",
       "      <td>4040.0</td>\n",
       "      <td>0.0</td>\n",
       "      <td>4080.0</td>\n",
       "    </tr>\n",
       "    <tr>\n",
       "      <th>All</th>\n",
       "      <td>40.0</td>\n",
       "      <td>335.0</td>\n",
       "      <td>4300.0</td>\n",
       "      <td>325.0</td>\n",
       "      <td>5000.0</td>\n",
       "    </tr>\n",
       "  </tbody>\n",
       "</table>\n",
       "</div>"
      ],
      "text/plain": [
       "<div>\n",
       "<style>\n",
       "    .dataframe thead tr:only-child th {\n",
       "        text-align: right;\n",
       "    }\n",
       "\n",
       "    .dataframe thead th {\n",
       "        text-align: left;\n",
       "    }\n",
       "\n",
       "    .dataframe tbody tr th {\n",
       "        vertical-align: top;\n",
       "    }\n",
       "</style>\n",
       "<table border=\"1\" class=\"dataframe\">\n",
       "  <thead>\n",
       "    <tr>\n",
       "      <th></th>\n",
       "      <th colspan=\"5\" halign=\"left\">id</th>\n",
       "    </tr>\n",
       "    <tr>\n",
       "      <th>productColor</th>\n",
       "      <th>亮白色</th>\n",
       "      <th>亮蓝色</th>\n",
       "      <th>亮黑色</th>\n",
       "      <th>陶瓷黑</th>\n",
       "      <th>All</th>\n",
       "    </tr>\n",
       "    <tr>\n",
       "      <th>productSize</th>\n",
       "      <th></th>\n",
       "      <th></th>\n",
       "      <th></th>\n",
       "      <th></th>\n",
       "      <th></th>\n",
       "    </tr>\n",
       "  </thead>\n",
       "  <tbody>\n",
       "    <tr>\n",
       "      <th>6GB 128GB</th>\n",
       "      <td>0.0</td>\n",
       "      <td>335.0</td>\n",
       "      <td>255.0</td>\n",
       "      <td>325.0</td>\n",
       "      <td>915.0</td>\n",
       "    </tr>\n",
       "    <tr>\n",
       "      <th>6GB 128GB（移动定制全网通）</th>\n",
       "      <td>0.0</td>\n",
       "      <td>0.0</td>\n",
       "      <td>5.0</td>\n",
       "      <td>0.0</td>\n",
       "      <td>5.0</td>\n",
       "    </tr>\n",
       "    <tr>\n",
       "      <th>6GB 64GB</th>\n",
       "      <td>40.0</td>\n",
       "      <td>0.0</td>\n",
       "      <td>4040.0</td>\n",
       "      <td>0.0</td>\n",
       "      <td>4080.0</td>\n",
       "    </tr>\n",
       "    <tr>\n",
       "      <th>All</th>\n",
       "      <td>40.0</td>\n",
       "      <td>335.0</td>\n",
       "      <td>4300.0</td>\n",
       "      <td>325.0</td>\n",
       "      <td>5000.0</td>\n",
       "    </tr>\n",
       "  </tbody>\n",
       "</table>\n",
       "</div>"
      ]
     },
     "execution_count": 19,
     "metadata": {},
     "output_type": "execute_result"
    }
   ],
   "source": [
    "import json\n",
    "import pandas as pd\n",
    "\n",
    "\n",
    "def read_line(path):\n",
    "    file_object = open(path)\n",
    "    for line in file_object:\n",
    "        try:\n",
    "            r = json.loads(line)\n",
    "            yield r\n",
    "        except:\n",
    "            file_object.close()\n",
    "\n",
    "a = list(read_line('comments.txt'))\n",
    "df = pd.DataFrame(a)\n",
    "color_size = pd.pivot_table(df, values=['id'], index=['productSize'], columns=['productColor'], aggfunc=len, \n",
    "                            fill_value=0, margins=True)\n",
    "color_size"
   ]
  }
 ],
 "metadata": {
  "kernelspec": {
   "display_name": "Python 2",
   "language": "python",
   "name": "python2"
  },
  "language_info": {
   "codemirror_mode": {
    "name": "ipython",
    "version": 2.0
   },
   "file_extension": ".py",
   "mimetype": "text/x-python",
   "name": "python",
   "nbconvert_exporter": "python",
   "pygments_lexer": "ipython2",
   "version": "2.7.6"
  }
 },
 "nbformat": 4,
 "nbformat_minor": 0
}